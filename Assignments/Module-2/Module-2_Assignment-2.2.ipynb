{
 "cells": [
  {
   "cell_type": "markdown",
   "metadata": {},
   "source": [
    "# Module 2: Data Analytics with Python - Statistics\n",
    "\n",
    "## Assignment 2.2: Advanced Statistics\n",
    "\n",
    "**Objective:**\n",
    "- **ANOVA (Analysis of Variance) F-test**\n"
   ]
  },
  {
   "cell_type": "markdown",
   "metadata": {},
   "source": [
    "### Task 1: Understanding ANOVA (Analysis of Variance)\n",
    "**Instructions:**\n",
    "- ANOVA (Analysis of Variance) is a statistical inference test that lets you compare multiple groups at the same time. It works well when dealing with more than two groups and is used to compare their means based on their mean similarity and f-score.\n",
    "- The F-distribution does not have any negative values because between and within-group variability are always positive due to squaring each deviation.\n"
   ]
  },
  {
   "cell_type": "code",
   "execution_count": null,
   "metadata": {},
   "outputs": [],
   "source": [
    "# Blank cell for Task 1 code execution"
   ]
  },
  {
   "cell_type": "markdown",
   "metadata": {},
   "source": [
    "### Task 2: Interpreting the ANOVA Results\n",
    "**Instructions:**\n",
    "- **p > 0.05** implies that the groups are similar.\n",
    "- **p < 0.05** implies that the groups are not similar.\n",
    "- Based on the output from the ANOVA table, interpret whether the groups are similar or not.\n"
   ]
  },
  {
   "cell_type": "code",
   "execution_count": null,
   "metadata": {},
   "outputs": [],
   "source": [
    "# Blank cell for Task 1 code execution"
   ]
  }
 ],
 "metadata": {
  "language_info": {
   "name": "python"
  }
 },
 "nbformat": 4,
 "nbformat_minor": 2
}
