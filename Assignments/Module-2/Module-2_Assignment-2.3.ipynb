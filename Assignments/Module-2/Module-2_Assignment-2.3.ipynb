{
 "cells": [
  {
   "cell_type": "markdown",
   "metadata": {},
   "source": [
    "# Module 2: Data Analytics with Python - Statistics\n",
    "\n",
    "## Assignment 2.3: Advanced Statistics\n",
    "\n",
    "**Objective:**\n",
    "- **Chi-Square Test**"
   ]
  },
  {
   "cell_type": "markdown",
   "metadata": {},
   "source": [
    "### Task 1: Understanding the Chi-Square Test\n",
    "**Instructions:**\n",
    "- The Chi-Square test is used to determine whether there is a significant association between two categorical variables.\n",
    "- The test compares the observed frequencies in each category to the frequencies you would expect if there was no association between the variables.\n",
    "- This task will demonstrate how to perform a Chi-Square test using a 2x3 table.\n"
   ]
  },
  {
   "cell_type": "code",
   "execution_count": null,
   "metadata": {},
   "outputs": [],
   "source": [
    "# Blank cell for Task 1 code execution"
   ]
  }
 ],
 "metadata": {
  "language_info": {
   "name": "python"
  }
 },
 "nbformat": 4,
 "nbformat_minor": 2
}
