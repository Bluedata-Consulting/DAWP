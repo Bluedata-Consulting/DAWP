{
 "cells": [
  {
   "cell_type": "markdown",
   "id": "148813b7",
   "metadata": {},
   "source": [
    "# Module 2: Data Analytics with Python - Statistics\n",
    "\n",
    "## Assignment 1: Basic Statistics & Linear Algebra\n",
    "\n",
    "**Objective:**\n",
    "By the end of this lab, you will have a basic understanding of statistics and linear algebra concepts using Python. You will also learn how to work with libraries such as NumPy and SciPy for various statistical and mathematical computations."
   ]
  },
  {
   "cell_type": "markdown",
   "id": "0ba7ce4e",
   "metadata": {},
   "source": [
    "### Task 1: Setting Up and Installing Required Libraries\n",
    "**Instructions:**\n",
    "- Install the necessary Python libraries for statistical analysis: NumPy and SciPy."
   ]
  },
  {
   "cell_type": "code",
   "execution_count": null,
   "id": "eb595094",
   "metadata": {},
   "outputs": [],
   "source": [
    "# Install numpy\n",
    "import sys\n",
    "!{sys.executable} -m pip install numpy\n",
    "\n",
    "# Install scipy\n",
    "!{sys.executable} -m pip install scipy"
   ]
  },
  {
   "cell_type": "code",
   "execution_count": null,
   "id": "00c47e1c",
   "metadata": {},
   "outputs": [],
   "source": [
    "# This cell is left blank intentionally for execution\n"
   ]
  },
  {
   "cell_type": "markdown",
   "id": "e05390f7",
   "metadata": {},
   "source": [
    "### Task 2: Understanding Measures of Central Tendency\n",
    "**Instructions:**\n",
    "- Create a basic NumPy array `X` with the values [1, 2, 3, 5, 5].\n",
    "- Calculate and print the mean of `X`.\n",
    "- Calculate and print the median of `X`.\n",
    "- Calculate and print the mode of `X` using both NumPy and SciPy."
   ]
  },
  {
   "cell_type": "code",
   "execution_count": null,
   "id": "a0347b87",
   "metadata": {},
   "outputs": [],
   "source": [
    "import numpy as np\n",
    "from scipy import stats\n",
    "\n",
    "# Creating a Basic Array in NumPy\n",
    "X = np.array([1, 2, 3, 5, 5])\n",
    "\n",
    "# Mean using NumPy\n",
    "print('Data', X)\n",
    "print('Mean:', np.mean(X))\n",
    "\n",
    "# Median using NumPy\n",
    "print('Median:', np.median(X))\n",
    "\n",
    "# Mode using NumPy\n",
    "vals, counts = np.unique(X, return_counts=True)\n",
    "index = np.argmax(counts)\n",
    "print('Mode (NumPy):', vals[index])\n",
    "\n",
    "# Mode using SciPy\n",
    "print('Mode (SciPy):', stats.mode(X))"
   ]
  },
  {
   "cell_type": "code",
   "execution_count": null,
   "id": "89a8e27c",
   "metadata": {},
   "outputs": [],
   "source": [
    "# This cell is left blank intentionally for execution\n"
   ]
  },
  {
   "cell_type": "markdown",
   "id": "285c41e9",
   "metadata": {},
   "source": [
    "### Task 3: Exploring Measures of Spread\n",
    "**Instructions:**\n",
    "- Use the array `X` from Task 2.\n",
    "- Calculate and print the range of `X`.\n",
    "- Calculate and print the quartiles and interquartile range (IQR) of `X`.\n",
    "- Calculate and print the 20th percentile of `X`.\n",
    "- Calculate and print the variance and standard deviation of `X`."
   ]
  },
  {
   "cell_type": "code",
   "execution_count": null,
   "id": "5f4f5305",
   "metadata": {},
   "outputs": [],
   "source": [
    "# Range\n",
    "print('Range:', X.max() - X.min())\n",
    "\n",
    "# Quartiles and Interquartile Range (IQR)\n",
    "data1 = np.array([1, 3, 4, 5, 5, 6, 7, 11])\n",
    "Q1 = np.quantile(data1, .25, interpolation='midpoint')\n",
    "Q2 = np.quantile(data1, .50, interpolation='midpoint')\n",
    "Q3 = np.quantile(data1, .75, interpolation='midpoint')\n",
    "IQR = Q3 - Q1\n",
    "print('Quartile 1:', Q1)\n",
    "print('Quartile 2:', Q2)\n",
    "print('Quartile 3:', Q3)\n",
    "print('Interquartile Range:', IQR)\n",
    "\n",
    "# Percentile\n",
    "percentile_20 = np.percentile(data1, 20)\n",
    "print('20th Percentile:', round(percentile_20, 2))\n",
    "\n",
    "# Variance and Standard Deviation\n",
    "print('Variance:', np.var(data1, ddof=1))\n",
    "print('Standard Deviation:', np.std(data1, ddof=1))"
   ]
  },
  {
   "cell_type": "code",
   "execution_count": null,
   "id": "fc5889ab",
   "metadata": {},
   "outputs": [],
   "source": [
    "# This cell is left blank intentionally for execution\n"
   ]
  },
  {
   "cell_type": "markdown",
   "id": "61c78518",
   "metadata": {},
   "source": [
    "### Task 4: Analyzing Covariance and Correlation\n",
    "**Instructions:**\n",
    "- Create two NumPy arrays `x` and `y` with values [1,2,3,4,5,6,7,8,9] and [9,8,7,6,5,4,3,2,1], respectively.\n",
    "- Calculate and print the covariance between `x` and `y`.\n",
    "- Calculate and print the correlation coefficient matrix of `x` and `y`."
   ]
  },
  {
   "cell_type": "code",
   "execution_count": null,
   "id": "e0191eb5",
   "metadata": {},
   "outputs": [],
   "source": [
    "# Covariance\n",
    "x = np.array([1, 2, 3, 4, 5, 6, 7, 8, 9])\n",
    "y = np.array([9, 8, 7, 6, 5, 4, 3, 2, 1])\n",
    "print('Covariance:', np.cov(x, y)[0, 1])\n",
    "\n",
    "# Correlation\n",
    "print('Correlation Coefficient Matrix:', np.corrcoef(x, y))"
   ]
  },
  {
   "cell_type": "code",
   "execution_count": null,
   "id": "00cb37ba",
   "metadata": {},
   "outputs": [],
   "source": [
    "# This cell is left blank intentionally for execution\n"
   ]
  },
  {
   "cell_type": "markdown",
   "id": "1a59eef3",
   "metadata": {},
   "source": [
    "### Task 5: Understanding Kurtosis and Skewness\n",
    "**Instructions:**\n",
    "- Create a sequence of data points and calculate the kurtosis using the `scipy.stats.kurtosis` function.\n",
    "- Generate a histogram to visualize skewness in the data."
   ]
  },
  {
   "cell_type": "code",
   "execution_count": null,
   "id": "f096706e",
   "metadata": {},
   "outputs": [],
   "source": [
    "from scipy import stats\n",
    "import matplotlib.pyplot as plt\n",
    "\n",
    "# Kurtosis\n",
    "data2 = np.linspace(-5, 5, 100)\n",
    "print('Kurtosis:', stats.kurtosis(data2))\n",
    "\n",
    "# Skewness\n",
    "numValues = 10000\n",
    "maxValue = 100\n",
    "skewness = -5  # Negative values are left skewed\n",
    "random = stats.skewnorm.rvs(a=skewness, loc=maxValue, size=numValues)\n",
    "random = random - min(random)\n",
    "random = random / max(random)\n",
    "random = random * maxValue\n",
    "plt.hist(random, 30, density=True, color='red', alpha=0.1)\n",
    "plt.show()\n",
    "print('Skewness:', stats.skew(data2))"
   ]
  },
  {
   "cell_type": "code",
   "execution_count": null,
   "id": "1ce43b26",
   "metadata": {},
   "outputs": [],
   "source": [
    "# This cell is left blank intentionally for execution\n"
   ]
  },
  {
   "cell_type": "markdown",
   "id": "9732b449",
   "metadata": {},
   "source": [
    "### Task 6: Working with Eigenvectors and Eigenvalues\n",
    "**Instructions:**\n",
    "- Create a 3x3 matrix `x` using NumPy.\n",
    "- Calculate the eigenvectors and eigenvalues of `x`.\n",
    "- Apply a linear transformation to `x` and calculate the new eigenvectors and eigenvalues."
   ]
  },
  {
   "cell_type": "code",
   "execution_count": null,
   "id": "33fe6474",
   "metadata": {},
   "outputs": [],
   "source": [
    "import numpy as np\n",
    "\n",
    "x = np.matrix([[4, 2, 3], [6, 7, 5], [3, 6, 1]])\n",
    "e = np.eye(3)\n",
    "m = x + 45 * e\n",
    "\n",
    "# Eigenvectors and Eigenvalues\n",
    "eig_values, eig_vectors = np.linalg.eig(x)\n",
    "print('Eigenvalues:', eig_values)\n",
    "print('Eigenvectors:', eig_vectors)\n",
    "\n",
    "eig_values_m, eig_vectors_m = np.linalg.eig(m)\n",
    "print('Transformed Eigenvalues:', eig_values_m)\n",
    "print('Transformed Eigenvectors:', eig_vectors_m)"
   ]
  },
  {
   "cell_type": "code",
   "execution_count": null,
   "id": "c0d48435",
   "metadata": {},
   "outputs": [],
   "source": [
    "# This cell is left blank intentionally for execution\n"
   ]
  },
  {
   "cell_type": "markdown",
   "id": "72e8f63c",
   "metadata": {},
   "source": [
    "Thank You!"
   ]
  }
 ],
 "metadata": {
  "language_info": {
   "name": "python"
  }
 },
 "nbformat": 4,
 "nbformat_minor": 5
}
