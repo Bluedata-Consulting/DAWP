{
 "cells": [
  {
   "cell_type": "markdown",
   "id": "2166df98",
   "metadata": {},
   "source": [
    "# Module 2: Data Analytics with Python - Statistics\n",
    "\n",
    "## Assignment 2.1: Advanced Statistics\n",
    "\n",
    "**Objective:**\n",
    "By the end of this lab, you will understand and perform advanced statistical methods, including hypothesis testing using various tests such as z-test and t-test. You will also learn how to make decisions based on the results of these tests."
   ]
  },
  {
   "cell_type": "markdown",
   "id": "a60db41f",
   "metadata": {},
   "source": [
    "### Task 1: Introduction to Hypothesis Testing\n",
    "**Instructions:**\n",
    "- Hypothesis testing is a statistical method for testing a claim or hypothesis about a parameter in a population, using data measured in a sample.\n",
    "- Follow the steps to perform hypothesis testing:\n",
    "  1. State the hypothesis.\n",
    "  2. Set the criteria for a decision.\n",
    "  3. Compute the test statistic.\n",
    "  4. Make a decision based on the test results."
   ]
  },
  {
   "cell_type": "code",
   "execution_count": null,
   "id": "f83fcff6",
   "metadata": {},
   "outputs": [],
   "source": [
    "# This cell is left blank intentionally for execution\n"
   ]
  },
  {
   "cell_type": "markdown",
   "id": "66ac0f4f",
   "metadata": {},
   "source": [
    "### Task 2: Performing a One-Sample z-Test\n",
    "**Instructions:**\n",
    "- Perform a one-sample z-test to determine if the sample mean is equal to a known population mean.\n",
    "- Use the systolic blood pressure dataset and test whether the mean of the `armsys` group is 125."
   ]
  },
  {
   "cell_type": "code",
   "execution_count": null,
   "id": "bd5cef98",
   "metadata": {},
   "outputs": [],
   "source": [
    "# This cell is left blank intentionally for execution\n"
   ]
  },
  {
   "cell_type": "markdown",
   "id": "61c86aff",
   "metadata": {},
   "source": [
    "### Task 3: Performing a Two-Sample z-Test\n",
    "**Instructions:**\n",
    "- Perform a two-sample z-test to compare the means of two independent groups.\n",
    "- Use the systolic blood pressure dataset and test whether the means of the `armsys` and `fingsys` groups are equal."
   ]
  },
  {
   "cell_type": "code",
   "execution_count": null,
   "id": "ec844b58",
   "metadata": {},
   "outputs": [],
   "source": [
    "# This cell is left blank intentionally for execution\n"
   ]
  },
  {
   "cell_type": "markdown",
   "id": "246d858d",
   "metadata": {},
   "source": [
    "### Task 4: Performing a One-Sample t-Test\n",
    "**Instructions:**\n",
    "- Perform a one-sample t-test to determine if there is a significant difference between the sample mean and a known population mean.\n",
    "- Use the provided data on the mass of acorns and test whether the average mass of the sample is different from 10.0 g."
   ]
  },
  {
   "cell_type": "code",
   "execution_count": null,
   "id": "badb73c0",
   "metadata": {},
   "outputs": [],
   "source": [
    "# This cell is left blank intentionally for execution\n"
   ]
  },
  {
   "cell_type": "markdown",
   "id": "d6a0064d",
   "metadata": {},
   "source": [
    "### Task 5: Performing a Two-Sample t-Test\n",
    "**Instructions:**\n",
    "- Perform a two-sample t-test to determine if there is a significant difference between the means of two independent groups.\n",
    "- Use the provided data on the weights of acorns from two different groups."
   ]
  },
  {
   "cell_type": "code",
   "execution_count": null,
   "id": "e6acb0f5",
   "metadata": {},
   "outputs": [],
   "source": [
    "# This cell is left blank intentionally for execution\n"
   ]
  },
  {
   "cell_type": "markdown",
   "id": "2b0d2c64",
   "metadata": {},
   "source": [
    "### Task 6: Performing a Paired t-Test\n",
    "**Instructions:**\n",
    "- Perform a paired t-test to compare the means of two related groups.\n",
    "- Use the provided data on blood pressure before and after treatment."
   ]
  },
  {
   "cell_type": "code",
   "execution_count": null,
   "id": "4b69f0d1",
   "metadata": {},
   "outputs": [],
   "source": [
    "# This cell is left blank intentionally for execution\n"
   ]
  }
 ],
 "metadata": {
  "language_info": {
   "name": "python"
  }
 },
 "nbformat": 4,
 "nbformat_minor": 5
}
