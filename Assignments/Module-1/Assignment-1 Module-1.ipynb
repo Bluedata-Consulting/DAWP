{
  "cells": [
    {
      "cell_type": "markdown",
      "metadata": {
        "id": "view-in-github",
        "colab_type": "text"
      },
      "source": [
        "<a href=\"https://colab.research.google.com/gist/bdc-KrishnaS/1902bf80972e1a44dcf2d254b94c118b/assignment-1-module-1.ipynb\" target=\"_parent\"><img src=\"https://colab.research.google.com/assets/colab-badge.svg\" alt=\"Open In Colab\"/></a>"
      ]
    },
    {
      "cell_type": "markdown",
      "id": "15c1658c",
      "metadata": {
        "id": "15c1658c"
      },
      "source": [
        "# Assignment 1: Introduction to Python Programming\n",
        "**Objective:**\n",
        "By the end of this exercise, you will have a basic understanding of Python syntax, data types, variables, control structures, and how to work with lists and dictionaries."
      ]
    },
    {
      "cell_type": "markdown",
      "id": "7cba4683",
      "metadata": {
        "id": "7cba4683"
      },
      "source": [
        "### Task 1: Writing Basic Syntaxes and Language Constructs\n",
        "**Instructions:**\n",
        "- Write a Python program that prints \"Welcome to Data Analytics with Python\" to the console.\n",
        "- Add a comment in your code explaining what the print statement does.\n",
        "- Define a variable `course_name` with the value \"Data Analytics with Python\" and print it."
      ]
    },
    {
      "cell_type": "code",
      "execution_count": null,
      "id": "4bde1187",
      "metadata": {
        "id": "4bde1187"
      },
      "outputs": [],
      "source": []
    },
    {
      "cell_type": "markdown",
      "id": "7e15d88a",
      "metadata": {
        "id": "7e15d88a"
      },
      "source": [
        "### Task 2: Understanding Python Data Types, Variables, and Operators\n",
        "**Instructions:**\n",
        "- Create variables `a`, `b`, and `c` with values `10`, `15.5`, and `True` respectively.\n",
        "- Print the data type of each variable using the `type()` function.\n",
        "- Perform the following operations and print the results:\n",
        "  - `a + b`\n",
        "  - `a * c`\n",
        "  - `b / a`"
      ]
    },
    {
      "cell_type": "code",
      "execution_count": null,
      "id": "ffd2027d",
      "metadata": {
        "id": "ffd2027d"
      },
      "outputs": [],
      "source": []
    },
    {
      "cell_type": "markdown",
      "id": "ab633398",
      "metadata": {
        "id": "ab633398"
      },
      "source": [
        "### Task 3: Using Control Structures and Loops\n",
        "**Instructions:**\n",
        "- Write a program that checks if the variable `a` (from Task 2) is greater than `10`. If it is, print \"a is greater than 10\". Otherwise, print \"a is not greater than 10\".\n",
        "- Create a list `numbers = [1, 2, 3, 4, 5]`.\n",
        "- Write a `for` loop that prints each number in the list.\n",
        "- Write a `while` loop that prints the numbers from 5 to 1."
      ]
    },
    {
      "cell_type": "code",
      "execution_count": null,
      "id": "b59e33e7",
      "metadata": {
        "id": "b59e33e7"
      },
      "outputs": [],
      "source": []
    },
    {
      "cell_type": "markdown",
      "id": "66e64d78",
      "metadata": {
        "id": "66e64d78"
      },
      "source": [
        "### Task 4: Working with Lists, Tuples, Sets, and Dictionaries\n",
        "**Instructions:**\n",
        "- Create a list `services = [\"Voice\", \"Data\", \"SMS\"]`. Add \"MMS\" to the list. Print the updated list.\n",
        "- Convert the list to a tuple and print it.\n",
        "- Create a set `employees = {\"John\", \"Jane\", \"Doe\"}`. Add \"Smith\" to the set. Print the updated set.\n",
        "- Create a dictionary `employee_info = {\"John\": \"Manager\", \"Jane\": \"Engineer\", \"Doe\": \"Analyst\"}`. Add another entry for \"Smith\" as \"Technician\". Print the dictionary."
      ]
    },
    {
      "cell_type": "code",
      "execution_count": null,
      "id": "37dca106",
      "metadata": {
        "id": "37dca106"
      },
      "outputs": [],
      "source": []
    },
    {
      "cell_type": "markdown",
      "id": "b926285d",
      "metadata": {
        "id": "b926285d"
      },
      "source": [
        "### Task 5: Examples of Working with Strings\n",
        "**Instructions:**\n",
        "- Create a string `welcome_message = \"Welcome to Data Analytics with Python\"`.\n",
        "- Print the length of the string.\n",
        "- Convert the string to uppercase and print it.\n",
        "- Extract and print the substring \"Data Analytics\"."
      ]
    },
    {
      "cell_type": "code",
      "execution_count": null,
      "id": "c50fc9d9",
      "metadata": {
        "id": "c50fc9d9"
      },
      "outputs": [],
      "source": []
    },
    {
      "cell_type": "markdown",
      "id": "7fa21f17",
      "metadata": {
        "id": "7fa21f17"
      },
      "source": [
        "### Task 6: Reading and Writing Data Files in Python\n",
        "**Instructions:**\n",
        "- Write the string `welcome_message` to a file named `welcome.txt`.\n",
        "- Read the content of the file and print it."
      ]
    },
    {
      "cell_type": "code",
      "execution_count": null,
      "id": "2554a882",
      "metadata": {
        "id": "2554a882"
      },
      "outputs": [],
      "source": []
    },
    {
      "cell_type": "markdown",
      "id": "7875bf31",
      "metadata": {
        "id": "7875bf31"
      },
      "source": [
        "### Task 7: Creating and Using Functions\n",
        "**Instructions:**\n",
        "- Create a function `calculate_sum(a, b)` that returns the sum of two numbers.\n",
        "- Call the function with the values `a = 10` and `b = 5` and print the result."
      ]
    },
    {
      "cell_type": "code",
      "execution_count": null,
      "id": "8a298d29",
      "metadata": {
        "id": "8a298d29"
      },
      "outputs": [],
      "source": []
    }
  ],
  "metadata": {
    "language_info": {
      "name": "python"
    },
    "colab": {
      "provenance": [],
      "include_colab_link": true
    }
  },
  "nbformat": 4,
  "nbformat_minor": 5
}