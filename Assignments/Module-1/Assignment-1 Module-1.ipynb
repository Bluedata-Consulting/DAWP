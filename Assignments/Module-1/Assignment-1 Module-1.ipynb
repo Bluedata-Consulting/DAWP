{
 "cells": [
  {
   "cell_type": "markdown",
   "id": "15c1658c",
   "metadata": {},
   "source": [
    "# Assignment 1: Introduction to Python Programming\n",
    "**Objective:**\n",
    "By the end of this exercise, you will have a basic understanding of Python syntax, data types, variables, control structures, and how to work with lists and dictionaries."
   ]
  },
  {
   "cell_type": "markdown",
   "id": "7cba4683",
   "metadata": {},
   "source": [
    "### Task 1: Writing Basic Syntaxes and Language Constructs\n",
    "**Instructions:**\n",
    "- Write a Python program that prints \"Welcome to Data Analytics with Python\" to the console.\n",
    "- Add a comment in your code explaining what the print statement does.\n",
    "- Define a variable `course_name` with the value \"Data Analytics with Python\" and print it."
   ]
  },
  {
   "cell_type": "code",
   "execution_count": null,
   "id": "4bde1187",
   "metadata": {},
   "outputs": [],
   "source": []
  },
  {
   "cell_type": "markdown",
   "id": "7e15d88a",
   "metadata": {},
   "source": [
    "### Task 2: Understanding Python Data Types, Variables, and Operators\n",
    "**Instructions:**\n",
    "- Create variables `a`, `b`, and `c` with values `10`, `15.5`, and `True` respectively.\n",
    "- Print the data type of each variable using the `type()` function.\n",
    "- Perform the following operations and print the results:\n",
    "  - `a + b`\n",
    "  - `a * c`\n",
    "  - `b / a`"
   ]
  },
  {
   "cell_type": "code",
   "execution_count": null,
   "id": "ffd2027d",
   "metadata": {},
   "outputs": [],
   "source": []
  },
  {
   "cell_type": "markdown",
   "id": "ab633398",
   "metadata": {},
   "source": [
    "### Task 3: Using Control Structures and Loops\n",
    "**Instructions:**\n",
    "- Write a program that checks if the variable `a` (from Task 2) is greater than `10`. If it is, print \"a is greater than 10\". Otherwise, print \"a is not greater than 10\".\n",
    "- Create a list `numbers = [1, 2, 3, 4, 5]`.\n",
    "- Write a `for` loop that prints each number in the list.\n",
    "- Write a `while` loop that prints the numbers from 5 to 1."
   ]
  },
  {
   "cell_type": "code",
   "execution_count": null,
   "id": "b59e33e7",
   "metadata": {},
   "outputs": [],
   "source": []
  },
  {
   "cell_type": "markdown",
   "id": "66e64d78",
   "metadata": {},
   "source": [
    "### Task 4: Working with Lists, Tuples, Sets, and Dictionaries\n",
    "**Instructions:**\n",
    "- Create a list `services = [\"Voice\", \"Data\", \"SMS\"]`. Add \"MMS\" to the list. Print the updated list.\n",
    "- Convert the list to a tuple and print it.\n",
    "- Create a set `employees = {\"John\", \"Jane\", \"Doe\"}`. Add \"Smith\" to the set. Print the updated set.\n",
    "- Create a dictionary `employee_info = {\"John\": \"Manager\", \"Jane\": \"Engineer\", \"Doe\": \"Analyst\"}`. Add another entry for \"Smith\" as \"Technician\". Print the dictionary."
   ]
  },
  {
   "cell_type": "code",
   "execution_count": null,
   "id": "37dca106",
   "metadata": {},
   "outputs": [],
   "source": []
  },
  {
   "cell_type": "markdown",
   "id": "b926285d",
   "metadata": {},
   "source": [
    "### Task 5: Examples of Working with Strings\n",
    "**Instructions:**\n",
    "- Create a string `welcome_message = \"Welcome to Data Analytics with Python\"`.\n",
    "- Print the length of the string.\n",
    "- Convert the string to uppercase and print it.\n",
    "- Extract and print the substring \"Data Analytics\"."
   ]
  },
  {
   "cell_type": "code",
   "execution_count": null,
   "id": "c50fc9d9",
   "metadata": {},
   "outputs": [],
   "source": []
  },
  {
   "cell_type": "markdown",
   "id": "7fa21f17",
   "metadata": {},
   "source": [
    "### Task 6: Reading and Writing Data Files in Python\n",
    "**Instructions:**\n",
    "- Write the string `welcome_message` to a file named `welcome.txt`.\n",
    "- Read the content of the file and print it."
   ]
  },
  {
   "cell_type": "code",
   "execution_count": null,
   "id": "2554a882",
   "metadata": {},
   "outputs": [],
   "source": []
  },
  {
   "cell_type": "markdown",
   "id": "7875bf31",
   "metadata": {},
   "source": [
    "### Task 7: Creating and Using Functions\n",
    "**Instructions:**\n",
    "- Create a function `calculate_sum(a, b)` that returns the sum of two numbers.\n",
    "- Call the function with the values `a = 10` and `b = 5` and print the result."
   ]
  },
  {
   "cell_type": "code",
   "execution_count": null,
   "id": "8a298d29",
   "metadata": {},
   "outputs": [],
   "source": []
  }
 ],
 "metadata": {
  "language_info": {
   "name": "python"
  }
 },
 "nbformat": 4,
 "nbformat_minor": 5
}
