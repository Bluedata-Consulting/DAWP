{
 "cells": [
  {
   "cell_type": "markdown",
   "id": "a40794cb",
   "metadata": {},
   "source": [
    "# Assignment 3: Advanced Python Programming\n",
    "**Objective:**\n",
    "By the end of this assignment, you will gain a solid understanding of advanced Python programming concepts, including object-oriented programming, exception handling, and utilizing external libraries for data analysis.\n",
    "\n",
    "Please complete the tasks below in the provided cells."
   ]
  },
  {
   "cell_type": "markdown",
   "id": "ea3bf741",
   "metadata": {},
   "source": [
    "### Task 1: Deep Dive into Object-Oriented Programming\n",
    "**Instructions:**\n",
    "- Extend the `Employee` class from Assignment 2 by adding the following:\n",
    "  - A method `give_raise(self, amount)` that increases the employee's salary by the specified amount.\n",
    "  - A method `change_position(self, new_position)` that changes the employee's position.\n",
    "- Create an object `employee2` of the `Employee` class, with the name \"John Smith\", position \"Analyst\", and salary `65000`.\n",
    "- Give `employee2` a raise of `5000` and change his position to \"Senior Analyst\". Use the `display_info()` method to verify the changes."
   ]
  },
  {
   "cell_type": "code",
   "execution_count": null,
   "id": "68cf70e2",
   "metadata": {},
   "outputs": [],
   "source": []
  },
  {
   "cell_type": "markdown",
   "id": "ec74d094",
   "metadata": {},
   "source": [
    "### Task 2: Handling Exceptions\n",
    "**Instructions:**\n",
    "- Write a function `divide_numbers(a, b)` that takes two arguments and returns the result of dividing `a` by `b`.\n",
    "- Use a `try` and `except` block to handle the `ZeroDivisionError`. If the error occurs, print \"Cannot divide by zero!\".\n",
    "- Test the function with `a = 10` and `b = 0` to verify that the exception handling works."
   ]
  },
  {
   "cell_type": "code",
   "execution_count": null,
   "id": "19e4998f",
   "metadata": {},
   "outputs": [],
   "source": []
  },
  {
   "cell_type": "markdown",
   "id": "0e6ecc5d",
   "metadata": {},
   "source": [
    "### Task 3: Working with External Libraries (NumPy and Pandas)\n",
    "**Instructions:**\n",
    "- Import the `numpy` library and create a 2D array `matrix` with the following values: `[[1, 2, 3], [4, 5, 6], [7, 8, 9]]`.\n",
    "- Use `numpy` to calculate and print the sum of all elements in the array.\n",
    "- Import the `pandas` library and create a DataFrame `df` with the following data:\n",
    "\n",
    "    | Name  | Age | Department |\n",
    "    |-------|-----|------------|\n",
    "    | John  | 28  | HR         |\n",
    "    | Jane  | 34  | IT         |\n",
    "    | Doe   | 22  | Marketing  |\n",
    "    | Smith | 45  | Sales      |\n",
    "\n",
    "- Print the DataFrame and calculate the average age of the employees."
   ]
  },
  {
   "cell_type": "code",
   "execution_count": null,
   "id": "ff2c7058",
   "metadata": {},
   "outputs": [],
   "source": []
  },
  {
   "cell_type": "markdown",
   "id": "a0137571",
   "metadata": {},
   "source": [
    "### Task 4: Working with JSON Data\n",
    "**Instructions:**\n",
    "- Create a Python dictionary `employee_data` with the following structure:\n",
    "  ```python\n",
    "  employee_data = {\n",
    "      \"employees\": [\n",
    "          {\"name\": \"John\", \"position\": \"Manager\", \"salary\": 80000},\n",
    "          {\"name\": \"Jane\", \"position\": \"Engineer\", \"salary\": 75000},\n",
    "          {\"name\": \"Doe\", \"position\": \"Analyst\", \"salary\": 65000}\n",
    "      ]\n",
    "  }\n",
    "  ```\n",
    "- Import the `json` module and convert the dictionary to a JSON string.\n",
    "- Save the JSON string to a file named `employee_data.json`.\n",
    "- Read the JSON data from the file and convert it back to a dictionary. Print the dictionary to verify the content."
   ]
  },
  {
   "cell_type": "code",
   "execution_count": null,
   "id": "84d83397",
   "metadata": {},
   "outputs": [],
   "source": []
  },
  {
   "cell_type": "markdown",
   "id": "05dfc457",
   "metadata": {},
   "source": [
    "### Task 5: Advanced Data Handling with Pandas\n",
    "**Instructions:**\n",
    "- Load the `employee_data.json` file into a Pandas DataFrame.\n",
    "- Add a new column `bonus` to the DataFrame, with a bonus of 10% of the salary for each employee.\n",
    "- Print the updated DataFrame."
   ]
  },
  {
   "cell_type": "code",
   "execution_count": null,
   "id": "80f508d3",
   "metadata": {},
   "outputs": [],
   "source": []
  },
  {
   "cell_type": "markdown",
   "id": "5cd439bd",
   "metadata": {},
   "source": [
    "### Task 6: Visualization with Matplotlib\n",
    "**Instructions:**\n",
    "- Import the `matplotlib.pyplot` library.\n",
    "- Create a bar chart that shows the salaries of employees from the `df` DataFrame created in Task 3.\n",
    "- Label the axes and give the chart a title \"Employee Salaries\".\n",
    "- Display the chart."
   ]
  },
  {
   "cell_type": "code",
   "execution_count": null,
   "id": "3a0d05f9",
   "metadata": {},
   "outputs": [],
   "source": []
  },
  {
   "cell_type": "markdown",
   "id": "54b0d6c1",
   "metadata": {},
   "source": [
    "### Task 7: Handling Dates and Times with `datetime`\n",
    "**Instructions:**\n",
    "- Use the `datetime` module to create a variable `current_time` that stores the current date and time.\n",
    "- Print `current_time` in the format `YYYY-MM-DD HH:MM:SS`.\n",
    "- Calculate the date 10 days from today and print it."
   ]
  },
  {
   "cell_type": "code",
   "execution_count": null,
   "id": "c65eb293",
   "metadata": {},
   "outputs": [],
   "source": []
  }
 ],
 "metadata": {},
 "nbformat": 4,
 "nbformat_minor": 5
}
