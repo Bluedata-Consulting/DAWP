{
 "cells": [
  {
   "cell_type": "markdown",
   "id": "d8aee376",
   "metadata": {},
   "source": [
    "# Assignment 2: Intermediate Python Programming\n",
    "**Objective:**\n",
    "By the end of this assignment, you will deepen your understanding of Python functions, modules, packages, advanced data structures, and gain exposure to object-oriented programming concepts.\n",
    "\n",
    "Please complete the tasks below in the provided cells."
   ]
  },
  {
   "cell_type": "markdown",
   "id": "c24366c3",
   "metadata": {},
   "source": [
    "### Task 1: Advanced Function Usage\n",
    "**Instructions:**\n",
    "- Define a function `calculate_average(numbers)` that takes a list of numbers as an argument and returns the average.\n",
    "- Create a list `scores = [75, 88, 92, 85, 90]` and use the `calculate_average` function to find the average score. Print the result.\n",
    "- Define a function `greet_user(name, greeting=\"Hello\")` that takes a user’s name and an optional greeting message. If no greeting is provided, it should default to \"Hello\". Test this function by greeting the user \"John\" with and without a custom greeting."
   ]
  },
  {
   "cell_type": "code",
   "execution_count": null,
   "id": "b2c6cf68",
   "metadata": {},
   "outputs": [],
   "source": []
  },
  {
   "cell_type": "markdown",
   "id": "3f849791",
   "metadata": {},
   "source": [
    "### Task 2: Using Modules and Packages\n",
    "**Instructions:**\n",
    "- Import the `math` module and use it to calculate and print the square root of 144.\n",
    "- Import the `statistics` module and use it to calculate and print the median of the `scores` list from Task 1.\n",
    "- Create a custom module named `custom_math.py` with a function `square(number)` that returns the square of a number. Import this module in your main script and use the `square` function."
   ]
  },
  {
   "cell_type": "code",
   "execution_count": null,
   "id": "d3c03469",
   "metadata": {},
   "outputs": [],
   "source": []
  },
  {
   "cell_type": "markdown",
   "id": "ca5dfb28",
   "metadata": {},
   "source": [
    "### Task 3: Working with Built-in Modules and Libraries in Python\n",
    "**Instructions:**\n",
    "- Use the `datetime` module to print today’s date and time.\n",
    "- Use the `random` module to generate and print a random number between 1 and 100.\n",
    "- Create a list `items = ['apple', 'banana', 'cherry', 'date']` and use the `random.choice()` function to select and print a random item from the list."
   ]
  },
  {
   "cell_type": "code",
   "execution_count": null,
   "id": "c1c5f26d",
   "metadata": {},
   "outputs": [],
   "source": []
  },
  {
   "cell_type": "markdown",
   "id": "226b602d",
   "metadata": {},
   "source": [
    "### Task 4: Exploring Object-Oriented Programming (OOP)\n",
    "**Instructions:**\n",
    "- Define a class `Employee` with attributes `name`, `position`, and `salary`.\n",
    "- Add a method `display_info()` to the class that prints the employee's information.\n",
    "- Create an object `employee1` of the `Employee` class and assign the values \"Jane Doe\", \"Engineer\", and `75000` to `name`, `position`, and `salary` respectively.\n",
    "- Call the `display_info()` method to print the employee's details."
   ]
  },
  {
   "cell_type": "code",
   "execution_count": null,
   "id": "d638be00",
   "metadata": {},
   "outputs": [],
   "source": []
  },
  {
   "cell_type": "markdown",
   "id": "16e878e8",
   "metadata": {},
   "source": [
    "### Task 5: Reading and Writing Data Files in Python (Revisited)\n",
    "**Instructions:**\n",
    "- Write a list `services = [\"Voice\", \"Data\", \"SMS\", \"MMS\"]` to a file named `services.txt`, with each service on a new line.\n",
    "- Read the content of `services.txt` and store it in a list called `read_services`. Print the list to verify the content."
   ]
  },
  {
   "cell_type": "code",
   "execution_count": null,
   "id": "9e82163b",
   "metadata": {},
   "outputs": [],
   "source": []
  },
  {
   "cell_type": "markdown",
   "id": "05daaec9",
   "metadata": {},
   "source": [
    "### Task 6: More Control Structures and Loops\n",
    "**Instructions:**\n",
    "- Write a program that iterates over the `scores` list (from Task 1) and prints whether each score is above or below 80.\n",
    "- Create a `for` loop that iterates over the numbers 1 to 10 and prints only the even numbers.\n",
    "- Write a nested loop that generates a multiplication table (from 1 to 5) and prints the results."
   ]
  },
  {
   "cell_type": "code",
   "execution_count": null,
   "id": "2c46a120",
   "metadata": {},
   "outputs": [],
   "source": []
  },
  {
   "cell_type": "markdown",
   "id": "68bd62c5",
   "metadata": {},
   "source": [
    "### Task 7: Working with Complex Data Structures\n",
    "**Instructions:**\n",
    "- Create a dictionary `employees = {\"John\": {\"position\": \"Manager\", \"salary\": 80000}, \"Jane\": {\"position\": \"Engineer\", \"salary\": 75000}}`.\n",
    "- Add a new employee `\"Doe\": {\"position\": \"Analyst\", \"salary\": 65000}` to the dictionary.\n",
    "- Write a loop that prints each employee's name along with their position and salary."
   ]
  },
  {
   "cell_type": "code",
   "execution_count": null,
   "id": "3e6c1092",
   "metadata": {},
   "outputs": [],
   "source": []
  }
 ],
 "metadata": {},
 "nbformat": 4,
 "nbformat_minor": 5
}
