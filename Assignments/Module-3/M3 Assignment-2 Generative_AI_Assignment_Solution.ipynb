{
 "cells": [
  {
   "cell_type": "markdown",
   "id": "91adc493",
   "metadata": {},
   "source": [
    "\n",
    "## Task 1: Setting Up OpenAI API Environment\n",
    "\n",
    "This section covers the setup of the OpenAI API environment for Generative AI.\n",
    "You need to have an OpenAI API key to proceed.\n"
   ]
  },
  {
   "cell_type": "code",
   "execution_count": null,
   "id": "1cbb681e",
   "metadata": {},
   "outputs": [],
   "source": [
    "\n",
    "# Install required libraries\n",
    "!pip install openai\n",
    "\n",
    "import openai\n",
    "\n",
    "# Replace 'your-api-key' with your actual OpenAI API key\n",
    "openai.api_key = 'your-api-key'\n"
   ]
  },
  {
   "cell_type": "markdown",
   "id": "d92d64df",
   "metadata": {},
   "source": [
    "\n",
    "## Task 2: Function to Generate Text using GPT-3/4\n",
    "\n",
    "In this task, we create a function that accepts a text prompt and returns the generated text using the GPT model.\n"
   ]
  },
  {
   "cell_type": "code",
   "execution_count": null,
   "id": "56b76469",
   "metadata": {},
   "outputs": [],
   "source": [
    "\n",
    "def generate_text(prompt, model=\"text-davinci-003\", max_tokens=100):\n",
    "    response = openai.Completion.create(\n",
    "        model=model,\n",
    "        prompt=prompt,\n",
    "        max_tokens=max_tokens,\n",
    "        n=1,\n",
    "        stop=None,\n",
    "        temperature=0.7\n",
    "    )\n",
    "    return response.choices[0].text.strip()\n"
   ]
  },
  {
   "cell_type": "markdown",
   "id": "b60c05df",
   "metadata": {},
   "source": [
    "\n",
    "## Task 3: Simulate a Business Scenario\n",
    "\n",
    "In this task, we simulate a telecom business scenario where AI generates customer service responses for common inquiries.\n"
   ]
  },
  {
   "cell_type": "code",
   "execution_count": null,
   "id": "281abe59",
   "metadata": {},
   "outputs": [],
   "source": [
    "\n",
    "# Use case: Generate a customer service response for telecom industry inquiries\n",
    "prompt = \"A customer asks: 'Why is my internet speed slow?'\"\n",
    "generated_response = generate_text(prompt)\n",
    "print(\"Generated Customer Service Response:\")\n",
    "print(generated_response)\n"
   ]
  },
  {
   "cell_type": "markdown",
   "id": "cd8ed3f3",
   "metadata": {},
   "source": [
    "\n",
    "## Task 4: Experiment with Multiple Prompts\n",
    "\n",
    "In this task, we experiment with multiple prompts to generate AI responses in different business scenarios.\n"
   ]
  },
  {
   "cell_type": "code",
   "execution_count": null,
   "id": "ce33528c",
   "metadata": {},
   "outputs": [],
   "source": [
    "\n",
    "prompts = [\n",
    "    \"A customer asks: 'What are the latest offers for mobile plans?'\",\n",
    "    \"Write a summary for a telecom performance report highlighting key network upgrades.\",\n",
    "    \"Generate a blog post introduction about the benefits of 5G technology for consumers.\"\n",
    "]\n",
    "\n",
    "for i, prompt in enumerate(prompts):\n",
    "    print(f\"\\nPrompt {i+1}: {prompt}\")\n",
    "    print(\"Generated Response:\")\n",
    "    print(generate_text(prompt))\n"
   ]
  },
  {
   "cell_type": "markdown",
   "id": "681cfe70",
   "metadata": {},
   "source": [
    "\n",
    "## Task 5: Prompt Engineering - Experimenting with Detailed Prompts\n",
    "\n",
    "In this task, we explore the effects of prompt engineering by refining prompts to generate more detailed and accurate responses.\n"
   ]
  },
  {
   "cell_type": "code",
   "execution_count": null,
   "id": "e47de020",
   "metadata": {},
   "outputs": [],
   "source": [
    "\n",
    "detailed_prompt = '''Generate a detailed customer service response for a user complaining about inconsistent call quality. \n",
    "The response should explain possible reasons such as network congestion and provide steps for troubleshooting the issue.'''\n",
    "improved_response = generate_text(detailed_prompt)\n",
    "print(\"\\nImproved Response with Prompt Engineering:\")\n",
    "print(improved_response)\n"
   ]
  },
  {
   "cell_type": "markdown",
   "id": "cb6f18ed",
   "metadata": {},
   "source": [
    "\n",
    "## Bonus Task: Simulate a Multi-Turn Conversation\n",
    "\n",
    "In this bonus task, we simulate a multi-turn conversation where AI generates responses for multiple rounds of interaction.\n"
   ]
  },
  {
   "cell_type": "code",
   "execution_count": null,
   "id": "7cfa909b",
   "metadata": {},
   "outputs": [],
   "source": [
    "\n",
    "conversation_prompt = '''Customer: 'My internet is not working.'\n",
    "Support Agent: 'I apologize for the inconvenience. Could you please provide more details about the issue?'\n",
    "Customer: 'I am unable to connect to any websites, but my modem lights are on.' '''\n",
    "multi_turn_response = generate_text(conversation_prompt)\n",
    "print(\"\\nMulti-Turn Conversation Continuation:\")\n",
    "print(multi_turn_response)\n"
   ]
  }
 ],
 "metadata": {},
 "nbformat": 4,
 "nbformat_minor": 5
}
