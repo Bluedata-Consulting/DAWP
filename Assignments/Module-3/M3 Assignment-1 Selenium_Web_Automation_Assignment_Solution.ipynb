{
 "cells": [
  {
   "cell_type": "markdown",
   "id": "1fef3a3a",
   "metadata": {},
   "source": [
    "\n",
    "## Task 1: Setup Selenium and WebDriver\n",
    "\n",
    "In this task, we will set up Selenium and the WebDriver for automating browser actions.\n",
    "You need to have Selenium and the appropriate WebDriver installed.\n"
   ]
  },
  {
   "cell_type": "code",
   "execution_count": null,
   "id": "f253b289",
   "metadata": {},
   "outputs": [],
   "source": [
    "\n",
    "# Install Selenium and WebDriver\n",
    "!pip install selenium\n",
    "\n",
    "from selenium import webdriver\n",
    "from selenium.webdriver.common.by import By\n",
    "from selenium.webdriver.common.keys import Keys\n",
    "import time\n",
    "\n",
    "# Set up the WebDriver (for Chrome in this case)\n",
    "driver = webdriver.Chrome(executable_path='/path/to/chromedriver')  # Replace with your ChromeDriver path\n",
    "driver.maximize_window()\n",
    "\n",
    "# Navigate to the SharePoint login page\n",
    "driver.get(\"https://login.microsoftonline.com/\")  # SharePoint login page\n"
   ]
  },
  {
   "cell_type": "markdown",
   "id": "7c26cc4f",
   "metadata": {},
   "source": [
    "\n",
    "## Task 2: Automating Login Process\n",
    "\n",
    "Here we will automate the login process for a SharePoint site using Selenium.\n"
   ]
  },
  {
   "cell_type": "code",
   "execution_count": null,
   "id": "194f35d3",
   "metadata": {},
   "outputs": [],
   "source": [
    "\n",
    "# Locating the login form fields\n",
    "email_input = driver.find_element(By.ID, \"i0116\")  # Email field ID may vary, inspect the page to get the correct one\n",
    "email_input.send_keys(\"your-email@example.com\")  # Enter your email here\n",
    "email_input.send_keys(Keys.RETURN)\n",
    "time.sleep(2)\n",
    "\n",
    "# Enter password\n",
    "password_input = driver.find_element(By.ID, \"i0118\")  # Password field ID may vary, inspect the page to get the correct one\n",
    "password_input.send_keys(\"your-password\")  # Enter your password here\n",
    "password_input.send_keys(Keys.RETURN)\n",
    "time.sleep(2)\n",
    "\n",
    "# Handle additional authentication steps if necessary\n",
    "# For example, handling two-factor authentication (2FA) could require extra steps based on your setup.\n",
    "\n",
    "# Validate that the login is successful by checking the presence of a specific element on the SharePoint dashboard\n",
    "try:\n",
    "    element = driver.find_element(By.ID, \"specific_dashboard_element\")  # Replace with a valid element ID from your SharePoint page\n",
    "    print(\"Login Successful!\")\n",
    "except:\n",
    "    print(\"Login Failed!\")\n"
   ]
  },
  {
   "cell_type": "markdown",
   "id": "74463f54",
   "metadata": {},
   "source": [
    "\n",
    "## Task 3: Cleanup and Close Browser\n",
    "\n",
    "Finally, we close the browser after the task is complete.\n"
   ]
  },
  {
   "cell_type": "code",
   "execution_count": null,
   "id": "45ed66ff",
   "metadata": {},
   "outputs": [],
   "source": [
    "\n",
    "# Close the browser\n",
    "driver.quit()\n"
   ]
  }
 ],
 "metadata": {},
 "nbformat": 4,
 "nbformat_minor": 5
}
